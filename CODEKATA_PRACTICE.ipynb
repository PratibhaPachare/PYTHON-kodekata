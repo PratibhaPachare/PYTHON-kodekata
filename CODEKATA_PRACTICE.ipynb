{
  "nbformat": 4,
  "nbformat_minor": 0,
  "metadata": {
    "colab": {
      "name": "CODEKATA_PRACTICE.ipynb",
      "provenance": [],
      "collapsed_sections": [],
      "toc_visible": true,
      "authorship_tag": "ABX9TyPsjfg/XFcnLVuKWrYh06HM",
      "include_colab_link": true
    },
    "kernelspec": {
      "name": "python3",
      "display_name": "Python 3"
    },
    "language_info": {
      "name": "python"
    }
  },
  "cells": [
    {
      "cell_type": "markdown",
      "metadata": {
        "id": "view-in-github",
        "colab_type": "text"
      },
      "source": [
        "<a href=\"https://colab.research.google.com/github/PratibhaPachare/PYTHON-kodekata/blob/main/CODEKATA_PRACTICE.ipynb\" target=\"_parent\"><img src=\"https://colab.research.google.com/assets/colab-badge.svg\" alt=\"Open In Colab\"/></a>"
      ]
    },
    {
      "cell_type": "code",
      "execution_count": null,
      "metadata": {
        "colab": {
          "base_uri": "https://localhost:8080/"
        },
        "id": "BTrKM7hpHPFR",
        "outputId": "cef974bf-4380-475b-92a3-3389d069ed41"
      },
      "outputs": [
        {
          "output_type": "stream",
          "name": "stdout",
          "text": [
            "2654\n"
          ]
        }
      ],
      "source": [
        "n = 4562\n",
        "rev = 0\n",
        "while(n > 0):\n",
        "    a = n % 10\n",
        "    rev = rev * 10 + a\n",
        "    n = n // 10\n",
        "print(rev)"
      ]
    },
    {
      "cell_type": "code",
      "source": [
        "def number(x):\n",
        "  if x%2==0:\n",
        "    print(\"even\")\n",
        "  else:\n",
        "    print(\"odd\")\n",
        "number(10)"
      ],
      "metadata": {
        "colab": {
          "base_uri": "https://localhost:8080/"
        },
        "id": "xWyQPkMdHnjL",
        "outputId": "ccd84dbe-019b-488d-90b7-52b410e20041"
      },
      "execution_count": null,
      "outputs": [
        {
          "output_type": "stream",
          "name": "stdout",
          "text": [
            "even\n"
          ]
        }
      ]
    },
    {
      "cell_type": "code",
      "source": [
        "a=int(input())\n",
        "b=int(input())\n",
        "x=int(input())\n",
        "y=a*x+b\n",
        "print(y)  "
      ],
      "metadata": {
        "colab": {
          "base_uri": "https://localhost:8080/"
        },
        "id": "6UCxCjsGHnfz",
        "outputId": "117288ba-5cd5-4064-f4df-419d2d764a20"
      },
      "execution_count": null,
      "outputs": [
        {
          "output_type": "stream",
          "name": "stdout",
          "text": [
            "4\n",
            "5\n",
            "6\n",
            "29\n"
          ]
        }
      ]
    },
    {
      "cell_type": "code",
      "source": [
        "def getSum(n):  \n",
        "    sum = 0\n",
        "    for digit in str(n): \n",
        "      sum += int(digit)      \n",
        "    return sum  \n",
        "n = int(input())\n",
        "print(getSum(n))"
      ],
      "metadata": {
        "colab": {
          "base_uri": "https://localhost:8080/"
        },
        "id": "6SlnB8_WHndI",
        "outputId": "c4e293d1-f0bf-47b4-aa36-d3b1cd1b2c7b"
      },
      "execution_count": null,
      "outputs": [
        {
          "output_type": "stream",
          "name": "stdout",
          "text": [
            "15\n",
            "6\n"
          ]
        }
      ]
    },
    {
      "cell_type": "code",
      "source": [
        "n = int(input(\"Enter the value of 'n': \"))\n",
        "a = 0\n",
        "b = 1\n",
        "sum = 0\n",
        "count = 1\n",
        "print(\"Fibonacci Series: \", end = \" \")\n",
        "while(count <= n):\n",
        "  print(sum, end = \" \")\n",
        "  count += 1\n",
        "  a = b\n",
        "  b = sum\n",
        "  sum = a + b"
      ],
      "metadata": {
        "colab": {
          "base_uri": "https://localhost:8080/"
        },
        "id": "4_w4arctHnag",
        "outputId": "06229234-0a81-4414-8a24-c2a91d7f0201"
      },
      "execution_count": null,
      "outputs": [
        {
          "output_type": "stream",
          "name": "stdout",
          "text": [
            "Enter the value of 'n': 10\n",
            "Fibonacci Series:  0 1 1 2 3 5 8 13 21 34 "
          ]
        }
      ]
    },
    {
      "cell_type": "code",
      "source": [
        "def number(x):\n",
        "  if x%2==1:\n",
        "    print(\"prime\")\n",
        "  else:\n",
        "    print(\"not prime\")\n",
        "number(10)"
      ],
      "metadata": {
        "colab": {
          "base_uri": "https://localhost:8080/"
        },
        "id": "NORx7AvMHnX_",
        "outputId": "b6d5b735-a5e6-4fcb-d4b5-d01de5236bdf"
      },
      "execution_count": null,
      "outputs": [
        {
          "output_type": "stream",
          "name": "stdout",
          "text": [
            "not prime\n"
          ]
        }
      ]
    },
    {
      "cell_type": "code",
      "source": [
        "n=int(input())\n",
        "i=n\n",
        "while i>=1:\n",
        "    print(i)\n",
        "    i-=1"
      ],
      "metadata": {
        "colab": {
          "base_uri": "https://localhost:8080/"
        },
        "id": "CvPo-x1THnTz",
        "outputId": "2204bc76-f464-4b43-ff3a-e334cf9fcb3b"
      },
      "execution_count": null,
      "outputs": [
        {
          "output_type": "stream",
          "name": "stdout",
          "text": [
            "7\n",
            "7\n",
            "6\n",
            "5\n",
            "4\n",
            "3\n",
            "2\n",
            "1\n"
          ]
        }
      ]
    },
    {
      "cell_type": "code",
      "source": [
        "#BITWISE OPERATORS\n",
        "n=int(input())\n",
        "if n>=1 and n<=10000:\n",
        "    print(~n) #bitwise NOT"
      ],
      "metadata": {
        "colab": {
          "base_uri": "https://localhost:8080/"
        },
        "id": "MLOFflBcHnR8",
        "outputId": "368f6a50-db6c-434c-e886-65008f1c1049"
      },
      "execution_count": null,
      "outputs": [
        {
          "output_type": "stream",
          "name": "stdout",
          "text": [
            "20\n",
            "-21\n"
          ]
        }
      ]
    },
    {
      "cell_type": "code",
      "source": [
        "# Python program to show\n",
        "# bitwise operators \n",
        "a = 10\n",
        "b = 4 \n",
        "# Print bitwise AND operation\n",
        "print(\"a & b =\", a & b) \n",
        "# Print bitwise OR operation\n",
        "print(\"a | b =\", a | b)\n",
        "# Print bitwise NOT operation\n",
        "print(\"~a =\", ~a) \n",
        "# print bitwise XOR operation\n",
        "print(\"a ^ b =\", a ^ b)"
      ],
      "metadata": {
        "colab": {
          "base_uri": "https://localhost:8080/"
        },
        "id": "ImMGbNV-HnLX",
        "outputId": "bbbeed45-8674-45e0-d758-1ad9d8214274"
      },
      "execution_count": null,
      "outputs": [
        {
          "output_type": "stream",
          "name": "stdout",
          "text": [
            "a & b = 0\n",
            "a | b = 14\n",
            "~a = -11\n",
            "a ^ b = 14\n"
          ]
        }
      ]
    },
    {
      "cell_type": "code",
      "source": [
        "\"\"\"When all the three sides of the triangles are equal in length, it is an equilateral triangle. \n",
        "When any two sides of the triangle are equal in length, it is an isosceles triangle.\n",
        "When all the three sides of the triangle are of different measures, it is a scalene triangle.\"\"\"\n",
        "print(\"Input lengths of the triangle sides: \")\n",
        "x = int(input(\"x: \"))\n",
        "y = int(input(\"y: \"))\n",
        "z = int(input(\"z: \"))\n",
        "if x == y == z:\n",
        "\tprint(\"Equilateral triangle\")\n",
        "elif x==y or y==z or z==x:\n",
        "\tprint(\"isosceles triangle\")\n",
        "else:\n",
        "\tprint(\"Scalene triangle\")"
      ],
      "metadata": {
        "colab": {
          "base_uri": "https://localhost:8080/"
        },
        "id": "73SH8JzOHnDM",
        "outputId": "222b7c76-6055-4bc6-c842-2aa5cfd42628"
      },
      "execution_count": null,
      "outputs": [
        {
          "output_type": "stream",
          "name": "stdout",
          "text": [
            "Input lengths of the triangle sides: \n",
            "x: 2\n",
            "y: 6\n",
            "z: 6\n",
            "isosceles triangle\n"
          ]
        }
      ]
    },
    {
      "cell_type": "code",
      "source": [
        "#reverse the string\n",
        "txt = \"Hello World\"[::-1]\n",
        "print(txt)\n",
        "\n",
        "text=input()\n",
        "print(text[::-1])"
      ],
      "metadata": {
        "colab": {
          "base_uri": "https://localhost:8080/"
        },
        "id": "8NNnyQqHHm44",
        "outputId": "4e1d1425-dfd9-47b3-b01f-67e4d2a70bc6"
      },
      "execution_count": null,
      "outputs": [
        {
          "output_type": "stream",
          "name": "stdout",
          "text": [
            "dlroW olleH\n",
            "PRATIBHA\n",
            "AHBITARP\n"
          ]
        }
      ]
    },
    {
      "cell_type": "code",
      "source": [
        "#sum of first k natural number #sum = k(k+1)/2\n",
        "k=int(input())\n",
        "if k<=100000:\n",
        "    sum=k*k+k\n",
        "    total=sum/2\n",
        "    print(total)"
      ],
      "metadata": {
        "colab": {
          "base_uri": "https://localhost:8080/"
        },
        "id": "WNGUQ_zcHmtn",
        "outputId": "7f414736-2490-4fe7-f8ce-01d6f3fdbfee"
      },
      "execution_count": null,
      "outputs": [
        {
          "output_type": "stream",
          "name": "stdout",
          "text": [
            "10\n",
            "55.0\n"
          ]
        }
      ]
    },
    {
      "cell_type": "code",
      "source": [
        "#getting multiple input in single line using spaces\n",
        "a, b ,c = input().split()\n",
        "print(a)\n",
        "print(b)\n",
        "print(c)"
      ],
      "metadata": {
        "colab": {
          "base_uri": "https://localhost:8080/"
        },
        "id": "JOq8BPtXHmhj",
        "outputId": "cbed833b-d457-49dc-a973-25039dfe77c2"
      },
      "execution_count": null,
      "outputs": [
        {
          "output_type": "stream",
          "name": "stdout",
          "text": [
            "12 23 34\n",
            "12\n",
            "23\n",
            "34\n"
          ]
        }
      ]
    },
    {
      "cell_type": "code",
      "source": [
        "print(\"Input the value of x & y\")\n",
        "x, y = map(int, input().split())\n",
        "print(\"The value of x & y are: \",x,y)"
      ],
      "metadata": {
        "colab": {
          "base_uri": "https://localhost:8080/"
        },
        "id": "0LUnCMV5Hl5q",
        "outputId": "47a1e445-8a2a-4cf4-9eec-4cf64f67e346"
      },
      "execution_count": null,
      "outputs": [
        {
          "output_type": "stream",
          "name": "stdout",
          "text": [
            "Input the value of x & y\n",
            "122 23\n",
            "The value of x & y are:  122 23\n"
          ]
        }
      ]
    },
    {
      "cell_type": "code",
      "source": [
        "# Python3 code to find\n",
        "# circumference of circle\n",
        " \n",
        "PI = 3.1415\n",
        "def circumference(r):\n",
        "    return (2 * PI * r)\n",
        "print ('%.3f' % circumference(5))\n",
        " "
      ],
      "metadata": {
        "colab": {
          "base_uri": "https://localhost:8080/"
        },
        "id": "l4CR40c4UFpn",
        "outputId": "7b4732fc-2871-4d81-aa81-2f05af5f493a"
      },
      "execution_count": null,
      "outputs": [
        {
          "output_type": "stream",
          "name": "stdout",
          "text": [
            "31.415\n"
          ]
        }
      ]
    },
    {
      "cell_type": "code",
      "source": [
        "#Precision Handling in Python\n",
        "'''\n",
        "trunc():- This function is used to eliminate all decimal parts of the floating-point number and return the integer without the decimal part.\n",
        "  ceil():- This function is used to print the least integer greater than the given number.\n",
        "floor():- This function is used to print the greatest integer smaller than the given integer.\n",
        "'''\n"
      ],
      "metadata": {
        "id": "zNbjgt3KUFak"
      },
      "execution_count": null,
      "outputs": []
    },
    {
      "cell_type": "code",
      "source": [
        "'''\n",
        "Setting Precision\n",
        "There are many ways to set the precision of the floating-point values. Some of them are discussed below.\n",
        "\n",
        "Using “%”:- “%” operator is used to format as well as set precision in python. This is similar to “printf” statement in C programming.\n",
        " Using format():- This is yet another way to format the string for setting precision.\n",
        " Using round(x,n):- This function takes 2 arguments, number, and the number till which we want decimal part rounded.\n",
        " '''\n",
        " "
      ],
      "metadata": {
        "id": "8IMBL6cpUFNk"
      },
      "execution_count": null,
      "outputs": []
    },
    {
      "cell_type": "code",
      "source": [
        "# Python code to demonstrate precision\n",
        "# and round()\n",
        " \n",
        "# initializing value\n",
        "a = 3.4536\n",
        " \n",
        "# using \"%\" to print value till 2 decimal places\n",
        "print (\"The value of number till 2 decimal place(using %) is : \",end=\"\")\n",
        "print ('%.2f'%a)\n",
        " \n",
        "# using format() to print value till 2 decimal places\n",
        "print (\"The value of number till 2 decimal place(using format()) is : \",end=\"\")\n",
        "print (\"{0:.2f}\".format(a))\n",
        " \n",
        "# using round() to print value till 2 decimal places\n",
        "print (\"The value of number till 2 decimal place(using round()) is : \",end=\"\")\n",
        "print (round(a,2))\n"
      ],
      "metadata": {
        "colab": {
          "base_uri": "https://localhost:8080/"
        },
        "id": "GJ7VHo4qW3hU",
        "outputId": "394df6b5-5d4a-4d55-82e2-d4e7d35584da"
      },
      "execution_count": null,
      "outputs": [
        {
          "output_type": "stream",
          "name": "stdout",
          "text": [
            "The value of number till 2 decimal place(using %) is : 3.45\n",
            "The value of number till 2 decimal place(using format()) is : 3.45\n",
            "The value of number till 2 decimal place(using round()) is : 3.45\n"
          ]
        }
      ]
    },
    {
      "cell_type": "code",
      "source": [
        "#FIND CIRCUMFERENCE OF CIRCLE\n",
        "PI = 3.1415\n",
        "r= float(input())\n",
        "if 2<0:\n",
        "    print(\"error\")\n",
        "else:\n",
        "    c=2*PI*r\n",
        "    print ('%.2f'%c)"
      ],
      "metadata": {
        "colab": {
          "base_uri": "https://localhost:8080/"
        },
        "id": "k_BH8iA6Y7Zh",
        "outputId": "45810f5b-4159-4e83-c801-62c4c4b02048"
      },
      "execution_count": null,
      "outputs": [
        {
          "output_type": "stream",
          "name": "stdout",
          "text": [
            "14\n",
            "87.96\n"
          ]
        }
      ]
    },
    {
      "cell_type": "code",
      "source": [
        "#even numbers in range n\n",
        "n=int(input())\n",
        "number = 1\n",
        "while number<=n:\n",
        "    if(number % 2 == 0):\n",
        "        print(\"{0}\".format(number))\n",
        "    number = number + 1"
      ],
      "metadata": {
        "colab": {
          "base_uri": "https://localhost:8080/"
        },
        "id": "ZcuwznjgZE56",
        "outputId": "59448bc1-f60f-455a-dd7a-e35f7a7c62ec"
      },
      "execution_count": null,
      "outputs": [
        {
          "output_type": "stream",
          "name": "stdout",
          "text": [
            "5\n",
            "2\n",
            "4\n"
          ]
        }
      ]
    },
    {
      "cell_type": "code",
      "source": [
        "#Find Simple Interest.\n",
        "p,t,r=map(float, input().split())\n",
        "si=(p*t*r)/100\n",
        "print(\"%.2f\"%si)\n"
      ],
      "metadata": {
        "id": "CUUL2d6xaQA8",
        "colab": {
          "base_uri": "https://localhost:8080/"
        },
        "outputId": "d84a3f34-5284-4e4f-af64-04a29de4e7e7"
      },
      "execution_count": null,
      "outputs": [
        {
          "output_type": "stream",
          "name": "stdout",
          "text": [
            "1 2 4\n",
            "0.08\n"
          ]
        }
      ]
    },
    {
      "cell_type": "code",
      "source": [
        "#hcf\n",
        "a,b=map(int,input().split())\n",
        "def hcfnaive(a,b):\n",
        "    if(b==0):\n",
        "        return a\n",
        "    else:\n",
        "        return hcfnaive(b,a%b)\n",
        "print (end=\"\")\n",
        "print (hcfnaive(a,b))\n",
        "        "
      ],
      "metadata": {
        "id": "XFgDutzIaP-D",
        "colab": {
          "base_uri": "https://localhost:8080/"
        },
        "outputId": "ffce5a95-fd67-40e9-8a53-d2b6c39e3121"
      },
      "execution_count": null,
      "outputs": [
        {
          "output_type": "stream",
          "name": "stdout",
          "text": [
            "10 20\n",
            "10\n"
          ]
        }
      ]
    },
    {
      "cell_type": "code",
      "source": [
        "'''\n",
        "ax2 + bx + c\n",
        "where,\n",
        "a, b, and c are coefficient and real numbers and also a ≠ 0.\n",
        "If a is equal to 0 that equation is not valid quadratic equation.\n",
        "'''\n"
      ],
      "metadata": {
        "id": "f16DixY-aP7U"
      },
      "execution_count": null,
      "outputs": []
    },
    {
      "cell_type": "code",
      "source": [
        "n=int(input())\n",
        "def findSum(n):\n",
        "    sum = 0\n",
        "    x = 1\n",
        "    while x <=n :\n",
        "        sum = sum + x\n",
        "        x = x + 1\n",
        "    return sum\n",
        "print (findSum(n))"
      ],
      "metadata": {
        "colab": {
          "base_uri": "https://localhost:8080/"
        },
        "id": "q5zWI0jYaP46",
        "outputId": "54035af2-35a3-4397-f468-fab261964930"
      },
      "execution_count": null,
      "outputs": [
        {
          "output_type": "stream",
          "name": "stdout",
          "text": [
            "45\n",
            "1035\n"
          ]
        }
      ]
    },
    {
      "cell_type": "code",
      "source": [
        "def factorial(n):\n",
        "    if n == 0:\n",
        "        return 1\n",
        "    return n * factorial(n-1)\n",
        "num=int(input())\n",
        "print(factorial(num))"
      ],
      "metadata": {
        "id": "fzvyjmL3aP2S"
      },
      "execution_count": null,
      "outputs": []
    },
    {
      "cell_type": "code",
      "source": [
        "n=float(input())\n",
        "a=int(n)\n",
        "if a==0:\n",
        "    print(\"zero\")\n",
        "if a%2==0:\n",
        "    print(\"Even\")\n",
        "if a%2==1:\n",
        "    print(\"Odd\")  "
      ],
      "metadata": {
        "id": "LK38B6LDaP0N"
      },
      "execution_count": null,
      "outputs": []
    },
    {
      "cell_type": "code",
      "source": [
        "a,b=map(int,input().split())\n",
        "if a<b:\n",
        "    print(a)\n",
        "else:\n",
        "    print(b)"
      ],
      "metadata": {
        "id": "Vif84sm1aPwB"
      },
      "execution_count": null,
      "outputs": []
    },
    {
      "cell_type": "code",
      "source": [
        "# Python3 program to print reverse\n",
        "# of words in a string.\n",
        "def wordReverse(str):\n",
        "\ti = len(str)-1\n",
        "\tstart = end = i+1\n",
        "\tresult = ''\n",
        "\twhile i >= 0:\n",
        "\t\tif str[i] == ' ':\n",
        "\t\t\tstart = i+1\n",
        "\t\t\twhile start != end:\n",
        "\t\t\t\tresult += str[start]\n",
        "\t\t\t\tstart += 1\n",
        "\t\t\tresult += ' '\n",
        "\t\t\tend = i\n",
        "\t\ti -= 1\n",
        "\tstart = 0\n",
        "\twhile start != end:\n",
        "\t\tresult += str[start]\n",
        "\t\tstart += 1\n",
        "\treturn result\n",
        "str = input()\n",
        "print(wordReverse(str))\n",
        "\n",
        "\n"
      ],
      "metadata": {
        "id": "0YLM5uuRaPn4",
        "colab": {
          "base_uri": "https://localhost:8080/"
        },
        "outputId": "72e38e54-8511-4592-be39-417158f53940"
      },
      "execution_count": null,
      "outputs": [
        {
          "output_type": "stream",
          "name": "stdout",
          "text": [
            "pratibha pachare\n",
            "pachare pratibha\n"
          ]
        }
      ]
    },
    {
      "cell_type": "code",
      "source": [
        "'''\n",
        "The Caesar Cipher technique is one of the earliest and simplest method of encryption technique. \n",
        "It’s simply a type of substitution cipher, \n",
        "i.e., each letter of a given text is replaced by a letter some fixed number of positions down the alphabet. \n",
        "For example with a shift of 1, A would be replaced by B, B would become C, and so on. \n",
        "The method is apparently named after Julius Caesar, who apparently used it to communicate with his officials. \n",
        "Thus to cipher a given text we need an integer value, \n",
        "known as shift which indicates the number of position each letter of the text has been moved down. \n",
        "The encryption can be represented using modular arithmetic by first transforming the letters into numbers, \n",
        "according to the scheme, A = 0, B = 1,…, Z = 25. Encryption of a letter by a shift n can be described mathematically as.\n",
        "'''\n",
        "\n",
        "\n",
        "#A python program to illustrate Caesar Cipher Technique\n",
        "def encrypt(text,s):\n",
        "\tresult = \"\"\n",
        "\n",
        "\t# traverse text\n",
        "\tfor i in range(len(text)):\n",
        "\t\tchar = text[i]\n",
        "\n",
        "\t\t# Encrypt uppercase characters\n",
        "\t\tif (char.isupper()):\n",
        "\t\t\tresult += chr((ord(char) + s-65) % 26 + 65)\n",
        "\n",
        "\t\t# Encrypt lowercase characters\n",
        "\t\telse:\n",
        "\t\t\tresult += chr((ord(char) + s - 97) % 26 + 97)\n",
        "\n",
        "\treturn result\n",
        "\n",
        "#check the above function\n",
        "text = input()\n",
        "s = 4\n",
        "print (\"Text : \" + text)\n",
        "print (\"Shift : \" + str(s))\n",
        "print (\"Cipher: \" + encrypt(text,s))\n"
      ],
      "metadata": {
        "id": "WmC2hRQ8aPdN"
      },
      "execution_count": null,
      "outputs": []
    },
    {
      "cell_type": "code",
      "source": [
        "#right angled triangle\n",
        "a,b,c=map(int, input().split())\n",
        "if a*a==b*b+c*c or b*b==a*a+c*c or c*c==b*b+a*a:\n",
        "    print(\"yes\")\n",
        "else:\n",
        "    print(\"no\")"
      ],
      "metadata": {
        "id": "QhIHUIjXaPRA"
      },
      "execution_count": null,
      "outputs": []
    },
    {
      "cell_type": "code",
      "source": [
        "# A Python3 program to check if\n",
        "# four given points form a square or not.\n",
        "class Point:\n",
        "\t\n",
        "\t# Structure of a point in 2D space\n",
        "\tdef __init__(self, x, y):\n",
        "\t\tself.x = x\n",
        "\t\tself.y = y\n",
        "\n",
        "# A utility function to find square of\n",
        "# distance from point 'p' to point 'q'\n",
        "def distSq(p, q):\n",
        "\treturn (p.x - q.x) * (p.x - q.x) +\\\n",
        "\t\t(p.y - q.y) * (p.y - q.y)\n",
        "\n",
        "# This function returns true if (p1, p2, p3, p4)\n",
        "# form a square, otherwise false\n",
        "def isSquare(p1, p2, p3, p4):\n",
        "\n",
        "\td2 = distSq(p1, p2) # from p1 to p2\n",
        "\td3 = distSq(p1, p3) # from p1 to p3\n",
        "\td4 = distSq(p1, p4) # from p1 to p4\n",
        "\n",
        "\tif d2 == 0 or d3 == 0 or d4 == 0:\n",
        "\t\treturn False\n",
        "\n",
        "\t# If lengths if (p1, p2) and (p1, p3) are same, then\n",
        "\t# following conditions must be met to form a square.\n",
        "\t# 1) Square of length of (p1, p4) is same as twice\n",
        "\t# the square of (p1, p2)\n",
        "\t# 2) Square of length of (p2, p3) is same\n",
        "\t# as twice the square of (p2, p4)\n",
        "\n",
        "\tif d2 == d3 and 2 * d2 == d4 and \\\n",
        "\t\t\t\t\t2 * distSq(p2, p4) == distSq(p2, p3):\n",
        "\t\treturn True\n",
        "\n",
        "\t# The below two cases are similar to above case\n",
        "\tif d3 == d4 and 2 * d3 == d2 and \\\n",
        "\t\t\t\t\t2 * distSq(p3, p2) == distSq(p3, p4):\n",
        "\t\treturn True\n",
        "\n",
        "\tif d2 == d4 and 2 * d2 == d3 and \\\n",
        "\t\t\t\t\t2 * distSq(p2, p3) == distSq(p2, p4):\n",
        "\t\treturn True\n",
        "\n",
        "\treturn False\n",
        "\n",
        "# Driver Code\n",
        "if __name__==\"__main__\":\n",
        "\tp1 = Point(20, 10)\n",
        "\tp2 = Point(10, 20)\n",
        "\tp3 = Point(20, 20)\n",
        "\tp4 = Point(10, 10)\n",
        "\t\n",
        "\tif isSquare(p1, p2, p3, p4):\n",
        "\t\tprint('Yes')\n",
        "\telse:\n",
        "\t\tprint('No')\n",
        "\n",
        "# This code is contributed by Mayank Chaudhary\n",
        "# aka chaudhary_19\n"
      ],
      "metadata": {
        "colab": {
          "base_uri": "https://localhost:8080/"
        },
        "id": "bapC9E_Rr9Xs",
        "outputId": "dc0b643b-1f74-45c2-a15d-bec491750621"
      },
      "execution_count": null,
      "outputs": [
        {
          "output_type": "stream",
          "name": "stdout",
          "text": [
            "Yes\n"
          ]
        }
      ]
    },
    {
      "cell_type": "code",
      "source": [
        "# Python3 program for special\n",
        "# addition of two number\n",
        "import math\n",
        "\n",
        "def xSum(n, m) :\n",
        "\n",
        "\t# variable to\n",
        "\t# store result\n",
        "\tres = 0\n",
        "\n",
        "\t# variable to maintain\n",
        "\t# place value\n",
        "\tmultiplier = 1\n",
        "\n",
        "\t# variable to maintain\n",
        "\t# each digit sum\n",
        "\tbit_sum = 0\n",
        "\n",
        "\t# Add numbers till each\n",
        "\t# number become zero\n",
        "\twhile (n or m) :\n",
        "\n",
        "\t\t# Add each bits\n",
        "\t\tbit_sum = ((n % 10) +\n",
        "\t\t\t\t(m % 10))\n",
        "\t\t\n",
        "\t\t# Neglect carry\n",
        "\t\tbit_sum = bit_sum % 10\n",
        "\t\t\n",
        "\t\t# Update result\n",
        "\t\tres = (bit_sum *\n",
        "\t\t\tmultiplier) + res\n",
        "\t\tn = math.floor(n / 10)\n",
        "\t\tm = math.floor(m / 10)\n",
        "\t\t\n",
        "\t\t# Update multiplier\n",
        "\t\tmultiplier = multiplier * 10\n",
        "\t\n",
        "\treturn res\n",
        "\n",
        "# Driver code\n",
        "n, m=(map(int, input().split()))\n",
        "print (xSum(n, m))\n",
        "\n",
        "# This code is contributed by\n",
        "# Manish Shaw(manishshaw1)\n"
      ],
      "metadata": {
        "colab": {
          "base_uri": "https://localhost:8080/"
        },
        "id": "958EhJNor9UO",
        "outputId": "046d7c69-f1a9-4eb3-b598-d740a29c23cd"
      },
      "execution_count": null,
      "outputs": [
        {
          "output_type": "stream",
          "name": "stdout",
          "text": [
            "444 888\n",
            "222\n"
          ]
        }
      ]
    },
    {
      "cell_type": "code",
      "source": [
        "#swap the even andodd character\n",
        "s = input()\n",
        "output = ''\n",
        "i = 0\n",
        "while i < len(s):\n",
        "        if i + 1 < len(s):\n",
        "                output = output + s[i + 1]\n",
        "                output = output + s[i]\n",
        "        i = i + 2\n",
        "print(output)\n"
      ],
      "metadata": {
        "colab": {
          "base_uri": "https://localhost:8080/"
        },
        "id": "tcJAQ3Ker9SN",
        "outputId": "4293d921-9285-4557-9b24-d62e2a4f3644"
      },
      "execution_count": null,
      "outputs": [
        {
          "output_type": "stream",
          "name": "stdout",
          "text": [
            "pratibhapachare\n",
            "rptabiahaphcra\n"
          ]
        }
      ]
    },
    {
      "cell_type": "code",
      "source": [
        "# Python3 program to check if three\n",
        "# sides form a triangle or not\n",
        "\n",
        "# function to check if three sides\n",
        "# form a triangle or not\n",
        "def checkValidity(a, b, c):\n",
        "\t\n",
        "\t# check condition\n",
        "\tif (a + b < c) or (a + c < b) or (b + c < a) :\n",
        "\t\treturn False\n",
        "\telse:\n",
        "\t\treturn True\t\n",
        "\n",
        "# driver code\n",
        "a,b,c=map(int,input().split())\n",
        "if checkValidity(a, b, c):\n",
        "\tprint(\"Valid\")\n",
        "else:\n",
        "\tprint(\"Invalid\")\n"
      ],
      "metadata": {
        "colab": {
          "base_uri": "https://localhost:8080/"
        },
        "id": "dXgC4T6cr9PZ",
        "outputId": "84891d24-3cda-4754-ed77-4c7849deace7"
      },
      "execution_count": null,
      "outputs": [
        {
          "output_type": "stream",
          "name": "stdout",
          "text": [
            "1 2 3\n",
            "Valid\n"
          ]
        }
      ]
    },
    {
      "cell_type": "code",
      "source": [
        "def checkValidity(a, b, c):\n",
        "\tif (a + b < c) or (a + c < b) or (b + c < a):\n",
        "\t\treturn False\n",
        "\telif a==1 or b==1 or c==1:\n",
        "\t    return False\n",
        "\telse:\n",
        "\t\treturn True\t\n",
        "a,b,c=map(int,input().split())\n",
        "if checkValidity(a, b, c):\n",
        "\tprint(\"yes\")\n",
        "else:\n",
        "\tprint(\"no\")\n",
        "\n"
      ],
      "metadata": {
        "colab": {
          "base_uri": "https://localhost:8080/"
        },
        "id": "KE1qpnHHr9M6",
        "outputId": "17eb1823-97b0-4124-f7a3-f5c648252581"
      },
      "execution_count": null,
      "outputs": [
        {
          "output_type": "stream",
          "name": "stdout",
          "text": [
            "45 45 78\n",
            "yes\n"
          ]
        }
      ]
    },
    {
      "cell_type": "code",
      "source": [
        "n=int(input())\n",
        "i=0\n",
        "while i<5:\n",
        "    i+=1\n",
        "    print(n)\n"
      ],
      "metadata": {
        "colab": {
          "base_uri": "https://localhost:8080/"
        },
        "id": "K9cSW-QWr9Jh",
        "outputId": "dd33513b-8e7e-4376-b151-9c1e37c4048d"
      },
      "execution_count": null,
      "outputs": [
        {
          "output_type": "stream",
          "name": "stdout",
          "text": [
            "4\n",
            "4\n",
            "4\n",
            "4\n",
            "4\n",
            "4\n"
          ]
        }
      ]
    },
    {
      "cell_type": "code",
      "source": [
        "a,n=map(int,input().split())\n",
        "i=0\n",
        "while i<n:\n",
        "    i+=1\n",
        "    print(a)\n",
        "\n"
      ],
      "metadata": {
        "colab": {
          "base_uri": "https://localhost:8080/"
        },
        "id": "TKpa_udmr9H3",
        "outputId": "b16d0730-eebe-4f44-c759-65cb35e6a955"
      },
      "execution_count": null,
      "outputs": [
        {
          "output_type": "stream",
          "name": "stdout",
          "text": [
            "4 2\n",
            "4\n",
            "4\n"
          ]
        }
      ]
    },
    {
      "cell_type": "code",
      "source": [
        "n = int(input())\n",
        "i = 1\n",
        "while ( i <= n):\n",
        "    print (i)\n",
        "    i+=1"
      ],
      "metadata": {
        "colab": {
          "base_uri": "https://localhost:8080/"
        },
        "id": "k9GjbsW9r9Eo",
        "outputId": "f3c0c2d2-d3d9-477f-b8d8-032cf42f1713"
      },
      "execution_count": null,
      "outputs": [
        {
          "output_type": "stream",
          "name": "stdout",
          "text": [
            "5\n",
            "1\n",
            "2\n",
            "3\n",
            "4\n",
            "5\n"
          ]
        }
      ]
    },
    {
      "cell_type": "code",
      "source": [
        "n=int(input())\n",
        "factor=0\n",
        "for i in range(1,n):\n",
        "  if n%i==0:\n",
        "    factor=i\n",
        "if factor>1:\n",
        "  print ('yes')\n",
        "elif n==1:\n",
        "  print ('The number 1 is neither prime nor composite!')\n",
        "else:\n",
        "  print ('no')"
      ],
      "metadata": {
        "colab": {
          "base_uri": "https://localhost:8080/"
        },
        "id": "NHtKdH0ur9C7",
        "outputId": "dac3758a-cd3f-4b7c-b119-085cbc749bdb"
      },
      "execution_count": null,
      "outputs": [
        {
          "output_type": "stream",
          "name": "stdout",
          "text": [
            "45\n",
            "yes\n"
          ]
        }
      ]
    },
    {
      "cell_type": "code",
      "source": [
        "n=int(input())\n",
        "l,r=map(int,input().split())\n",
        "if n<l and n>r or l<n and n<r:\n",
        "    print(\"yes\")\n",
        "else:\n",
        "    print(\"no\")\n",
        "    "
      ],
      "metadata": {
        "id": "jCO85VDOr85w",
        "colab": {
          "base_uri": "https://localhost:8080/"
        },
        "outputId": "e55b9717-71bb-46fc-d0dd-35a57172aed4"
      },
      "execution_count": null,
      "outputs": [
        {
          "output_type": "stream",
          "name": "stdout",
          "text": [
            "12\n",
            "50 89\n",
            "no\n"
          ]
        }
      ]
    },
    {
      "cell_type": "code",
      "source": [
        "n,m=map(int,input().split())\n",
        "product=n*m\n",
        "root = product**0.5\n",
        "if int(root + 0.5) ** 2 == product:\n",
        "    print(\"yes\")\n",
        "else:\n",
        "    print(\"no\")"
      ],
      "metadata": {
        "id": "Y0oyO6gIr8tP",
        "colab": {
          "base_uri": "https://localhost:8080/"
        },
        "outputId": "72810714-7754-439f-daa6-17e9fc61c035"
      },
      "execution_count": null,
      "outputs": [
        {
          "output_type": "stream",
          "name": "stdout",
          "text": [
            "50 60\n",
            "no\n"
          ]
        }
      ]
    },
    {
      "cell_type": "code",
      "source": [
        "n,m=map(int,input().split())\n",
        "c=n+m\n",
        "if  c>=0 and c%2==0:\n",
        "    print(\"even\")\n",
        "else:\n",
        "    print(\"odd\")"
      ],
      "metadata": {
        "colab": {
          "base_uri": "https://localhost:8080/"
        },
        "id": "Jy74dwwvKbfP",
        "outputId": "53a6976d-088f-4b7e-cef3-d50e790fa5b7"
      },
      "execution_count": null,
      "outputs": [
        {
          "output_type": "stream",
          "name": "stdout",
          "text": [
            "50 60\n",
            "even\n"
          ]
        }
      ]
    },
    {
      "cell_type": "code",
      "source": [
        "b,h=map(int,input().split())\n",
        "area=b*h/2\n",
        "print(area)"
      ],
      "metadata": {
        "colab": {
          "base_uri": "https://localhost:8080/"
        },
        "id": "nKLMEoz6Kbat",
        "outputId": "36a0bb66-8960-4173-cb7e-3048520060eb"
      },
      "execution_count": null,
      "outputs": [
        {
          "output_type": "stream",
          "name": "stdout",
          "text": [
            "12 45\n",
            "270.0\n"
          ]
        }
      ]
    },
    {
      "cell_type": "code",
      "source": [
        "a,b,c=map(int,input().split())\n",
        "ans=a*b%c\n",
        "print(ans)"
      ],
      "metadata": {
        "id": "tk-RPdUpKbY-",
        "colab": {
          "base_uri": "https://localhost:8080/"
        },
        "outputId": "f987c09a-8023-4002-d749-8416efda24d3"
      },
      "execution_count": null,
      "outputs": [
        {
          "output_type": "stream",
          "name": "stdout",
          "text": [
            "24 56 78\n",
            "18\n"
          ]
        }
      ]
    },
    {
      "cell_type": "code",
      "source": [
        "a = input()\n",
        "l = []\n",
        "for i in a:\n",
        "    l.append(int(i))\n",
        "    \n",
        "c = set(l)\n",
        "\n",
        "if len(c) == 2:\n",
        "    print(\"Saturated\")\n",
        "    \n",
        "else:\n",
        "    print(\"Unsaturated\")"
      ],
      "metadata": {
        "id": "Lrl8MnYFKbUw",
        "colab": {
          "base_uri": "https://localhost:8080/"
        },
        "outputId": "3c567440-1726-4c16-ca0d-49a1ab1f523a"
      },
      "execution_count": null,
      "outputs": [
        {
          "output_type": "stream",
          "name": "stdout",
          "text": [
            "4541\n",
            "Unsaturated\n"
          ]
        }
      ]
    },
    {
      "cell_type": "code",
      "source": [
        "# Python3 code to demonstrate\n",
        "# checking a number is palindrome\n",
        "# using str() + string slicing\n",
        "\n",
        "# initializing number\n",
        "test_number = 9669669\n",
        "\n",
        "# printing the original number\n",
        "print (\"The original number is : \" + str(test_number))\n",
        "\n",
        "# using str() + string slicing\n",
        "# for checking a number is palindrome\n",
        "res = str(test_number) == str(test_number)[::-1]\n",
        "\n",
        "# printing result\n",
        "print (\"Is the number palindrome ? : \" + str(res))\n"
      ],
      "metadata": {
        "id": "I1CcAG8AKbS_"
      },
      "execution_count": null,
      "outputs": []
    },
    {
      "cell_type": "code",
      "source": [
        "str=input(\"Enter the String:\")\n",
        "print(\"All the consonants in the string are:\")\n",
        "for i in range(len(str)):\n",
        "    if str[i] == 'a' or str[i] == 'A' or str[i] == 'e' or str[i] == 'E' or str[i] == 'i'or str[i] == 'I' or str[i] == 'o' or str[i] == 'O' or str[i] == 'u' or str[i] == 'U':\n",
        "        continue\n",
        "    else:\n",
        "        print(str[i],end=\" \")\n"
      ],
      "metadata": {
        "id": "XDs0x_seKbOU",
        "colab": {
          "base_uri": "https://localhost:8080/"
        },
        "outputId": "95e199fd-4395-43bf-f890-8f6b21236eed"
      },
      "execution_count": null,
      "outputs": [
        {
          "output_type": "stream",
          "name": "stdout",
          "text": [
            "Enter the String:i am pratibha pachare\n",
            "All the consonants in the string are:\n",
            "  m   p r t b h   p c h r "
          ]
        }
      ]
    },
    {
      "cell_type": "code",
      "source": [
        "str=input()\n",
        "print(\"\")\n",
        "for i in range(len(str)):\n",
        "    if str[i] == 'a' or str[i] == 'A' or str[i] == 'e' or str[i] == 'E' or str[i] == 'i'or str[i] == 'I' or str[i] == 'o' or str[i] == 'O' or str[i] == 'u' or str[i] == 'U':\n",
        "        continue\n",
        "    else:\n",
        "        print(str[i],end=\"\")\n"
      ],
      "metadata": {
        "id": "YEJY9rs-KbMl",
        "colab": {
          "base_uri": "https://localhost:8080/"
        },
        "outputId": "9ca774c6-bc50-45c2-a23f-1f4320aee79d"
      },
      "execution_count": null,
      "outputs": [
        {
          "output_type": "stream",
          "name": "stdout",
          "text": [
            "i am pratibha\n",
            "\n",
            " m prtbh"
          ]
        }
      ]
    }
  ]
}